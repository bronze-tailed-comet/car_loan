{
 "cells": [
  {
   "cell_type": "code",
   "execution_count": 21,
   "id": "ae486aa9",
   "metadata": {},
   "outputs": [
    {
     "name": "stdout",
     "output_type": "stream",
     "text": [
      "Good Company B.V. has 1-9 number of employees\n",
      "Random Company A has 1 number of employees\n",
      "Random Company A has 67 number of employees\n",
      "Random Company A has 101 number of employees\n",
      "Random Company A has 878 number of employees\n",
      "Invalid data supplied\n",
      "Random Company A has 6 number of employees\n"
     ]
    }
   ],
   "source": [
    "from pydantic import BaseModel, ValidationError, PositiveInt\n",
    "from typing import Optional\n",
    "from typing_extensions import Literal\n",
    "from typing import Union\n",
    "\n",
    "#constants\n",
    "VALUE_1 = \"1-9\"\n",
    "VALUE_2 = \"10-99\"\n",
    "VALUE_3 = \"99+\"\n",
    "VALUE_4 = \"unknown\"\n",
    "\n",
    "class Company(BaseModel):\n",
    "    name: str\n",
    "    employees: Union[Optional[Literal[VALUE_1, VALUE_2, VALUE_3, VALUE_4]], PositiveInt]\n",
    "        \n",
    "#if __name__ == '__main__':\n",
    "\n",
    "for data in [\n",
    "    \n",
    "    {'name': 'Good Company B.V.', 'employees': '1-9'},\n",
    "    {'name': 'Random Company A', 'employees':'1'},\n",
    "    {'name': 'Random Company A', 'employees':'67'},\n",
    "    {'name': 'Random Company A', 'employees':'101'},\n",
    "    {'name': 'Random Company A', 'employees':' 878'},\n",
    "    {'name': 'Random Company A', 'employees':'0'},\n",
    "    {'name': 'Random Company A', 'employees':'6'}\n",
    "    \n",
    "] :\n",
    "    \n",
    "    try:\n",
    "        company = Company(**data)\n",
    "        print(f\"{company.name} has {company.employees} number of employees\")\n",
    "    except ValidationError:\n",
    "        print(f\"Invalid data supplied\")\n",
    "        continue"
   ]
  },
  {
   "cell_type": "code",
   "execution_count": 4,
   "id": "3620b3e0",
   "metadata": {},
   "outputs": [
    {
     "data": {
      "text/plain": [
       "878"
      ]
     },
     "execution_count": 4,
     "metadata": {},
     "output_type": "execute_result"
    }
   ],
   "source": [
    "int('878')"
   ]
  }
 ],
 "metadata": {
  "kernelspec": {
   "display_name": "Python 3 (ipykernel)",
   "language": "python",
   "name": "python3"
  },
  "language_info": {
   "codemirror_mode": {
    "name": "ipython",
    "version": 3
   },
   "file_extension": ".py",
   "mimetype": "text/x-python",
   "name": "python",
   "nbconvert_exporter": "python",
   "pygments_lexer": "ipython3",
   "version": "3.9.5"
  }
 },
 "nbformat": 4,
 "nbformat_minor": 5
}
