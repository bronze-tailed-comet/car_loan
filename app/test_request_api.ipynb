{
 "cells": [
  {
   "cell_type": "code",
   "execution_count": 51,
   "id": "2393fff5",
   "metadata": {},
   "outputs": [
    {
     "name": "stdout",
     "output_type": "stream",
     "text": [
      "{'status': '200', 'response': {'pred': 0.339, 'message': 'success'}}\n"
     ]
    }
   ],
   "source": [
    "import requests as re\n",
    "import json\n",
    "\n",
    "session = re.Session()\n",
    "session.auth = ('api_username', 'api_password')\n",
    "\n",
    "payload = {\"customer_id\": 2,\n",
    "          \"main_account_loan_no\":400,\n",
    "         \"main_account_active_loan_no\":3,\n",
    "         \"main_account_overdue_no\":0,\n",
    "         \"main_account_outstanding_loan\":383989,\n",
    "         \"main_account_sanction_loan\":666207,\n",
    "         \"main_account_disbursed_loan\":666207,\n",
    "         \"sub_account_loan_no\":0,\n",
    "         \"sub_account_active_loan_no\":0,\n",
    "         \"sub_account_overdue_no\":0,\n",
    "         \"sub_account_outstanding_loan\":0,\n",
    "         \"sub_account_sanction_loan\":0,\n",
    "         \"sub_account_disbursed_loan\":0\n",
    "          }\n",
    "\n",
    "resp = session.post(url=\"http://localhost:8008/car_loan\", data=json.dumps(payload))\n",
    "\n",
    "print(resp.json())"
   ]
  }
 ],
 "metadata": {
  "kernelspec": {
   "display_name": "Python 3 (ipykernel)",
   "language": "python",
   "name": "python3"
  },
  "language_info": {
   "codemirror_mode": {
    "name": "ipython",
    "version": 3
   },
   "file_extension": ".py",
   "mimetype": "text/x-python",
   "name": "python",
   "nbconvert_exporter": "python",
   "pygments_lexer": "ipython3",
   "version": "3.9.5"
  }
 },
 "nbformat": 4,
 "nbformat_minor": 5
}
